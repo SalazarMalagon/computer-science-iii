{
 "cells": [
  {
   "cell_type": "markdown",
   "metadata": {},
   "source": [
    "# ReGex Package\n",
    "\n",
    "This is a _notebook_ where some examples for __regex__ package in Python."
   ]
  },
  {
   "cell_type": "code",
   "execution_count": 1,
   "metadata": {},
   "outputs": [],
   "source": [
    "# python package to evaluate regular expressions\n",
    "import re "
   ]
  },
  {
   "cell_type": "markdown",
   "metadata": {},
   "source": [
    "Compile a pattern"
   ]
  },
  {
   "cell_type": "code",
   "execution_count": 6,
   "metadata": {},
   "outputs": [
    {
     "name": "stdout",
     "output_type": "stream",
     "text": [
      "['1', '2', '34', '234567']\n"
     ]
    }
   ],
   "source": [
    "pattern = \"[0-9]+\" # match any digit\n",
    "compile_pattern = re.compile(pattern)\n",
    "\n",
    "# Test the pattern\n",
    "text = \"1 a 2 b 34 c 234567\"\n",
    "\n",
    "# Match the pattern any substring\n",
    "matches = compile_pattern.findall(text)\n",
    "print(matches)"
   ]
  },
  {
   "cell_type": "code",
   "execution_count": 42,
   "metadata": {},
   "outputs": [
    {
     "name": "stdout",
     "output_type": "stream",
     "text": [
      "[':', ':', ':']\n"
     ]
    }
   ],
   "source": [
    "# Check letter\n",
    "\n",
    "pattern = r':' # match any digit\n",
    "compile_pattern = re.compile(pattern)\n",
    "\n",
    "# Test the pattern\n",
    "text = \"\"\"ENTITY libro :\n",
    "    codigo: PK, NON_NULL, INT, AUT, NULL\n",
    "    autor: NON_PK, NON_NULL, CHAR, NON_AUT\n",
    "    DEPENDENTENTITY\n",
    " \"\"\"\n",
    "\n",
    "# Match the pattern any substring\n",
    "matches = compile_pattern.findall(text)\n",
    "print(matches)"
   ]
  },
  {
   "cell_type": "code",
   "execution_count": 71,
   "metadata": {},
   "outputs": [
    {
     "name": "stdout",
     "output_type": "stream",
     "text": [
      "['a', 'bas', 'cgfd', 'asdas', 'a', 'f', '_b', 'var1', 'my_var', 'myVar']\n"
     ]
    }
   ],
   "source": [
    "# check variable name\n",
    "\n",
    "pattern_variable = r\"\\b[a-z|_]+[a-z|A-Z|0-9|_]*\\b\" # match any digit\n",
    "compile_pattern = re.compile(pattern_variable) \n",
    "\n",
    "# Test the pattern\n",
    "text = \"1 a 2 bas 34 cgfd 234567 asdas a f _b var1 1var my_var myVar VAR\"\n",
    "\n",
    "# Match the pattern any substring\n",
    "matches = compile_pattern.findall(text)\n",
    "print(matches)"
   ]
  },
  {
   "cell_type": "code",
   "execution_count": 70,
   "metadata": {},
   "outputs": [
    {
     "name": "stdout",
     "output_type": "stream",
     "text": [
      "['var_1 ', ' var_2 ', ' 123 ', ' var3']\n",
      "var_1 is valid\n",
      "var_2 is valid\n",
      "123 is valid\n",
      "var3 is valid\n"
     ]
    }
   ],
   "source": [
    "# Split an aritmectic expression\n",
    "\n",
    "pattern_operators = r\"[=|+|\\-|+|/]\"\n",
    "compile_aritmectic = re.compile(pattern_operators)\n",
    "\n",
    "# Test the pattern\n",
    "text = \"var_1 = var_2 + 123 - var3\"\n",
    "\n",
    "# Split the expression based on aritmectic expression\n",
    "split_result = re.split(compile_aritmectic, text)\n",
    "print(split_result)\n",
    "\n",
    "# Validate if variable or nomber\n",
    "\n",
    "for token in split_result:\n",
    "    token=token.strip()\n",
    "    if re.match(pattern_variable, token) or re.match(r\"\\b[0-9]+\\b\", token):\n",
    "        print(f\"{token} is valid\")\n",
    "    else:\n",
    "        print(\"ERROR\")\n",
    "        break"
   ]
  },
  {
   "cell_type": "code",
   "execution_count": 5,
   "metadata": {},
   "outputs": [
    {
     "name": "stdout",
     "output_type": "stream",
     "text": [
      "Texto inválido\n"
     ]
    }
   ],
   "source": [
    "patron = r'(?=.*\\b(PK|NON_PK)\\b)(?=.*\\b(NON_NULL|NULL)\\b)(?=.*\\b(INT|CHAR)\\b)(?=.*\\b(AUT|NON_AUT)\\b)'\n",
    "\n",
    "texto1 = \"PK NON_NULL INT AUT\"\n",
    "texto2 = \"PK NULL CHAR NON_AUT\"  \n",
    "texto3 = \"PK INT AUT\"            \n",
    "\n",
    "if re.search(patron, texto3):\n",
    "    print(\"Texto válido\")\n",
    "else:\n",
    "    print(\"Texto inválido\")"
   ]
  }
 ],
 "metadata": {
  "kernelspec": {
   "display_name": "Python 3",
   "language": "python",
   "name": "python3"
  },
  "language_info": {
   "codemirror_mode": {
    "name": "ipython",
    "version": 3
   },
   "file_extension": ".py",
   "mimetype": "text/x-python",
   "name": "python",
   "nbconvert_exporter": "python",
   "pygments_lexer": "ipython3",
   "version": "3.11.0"
  }
 },
 "nbformat": 4,
 "nbformat_minor": 2
}
